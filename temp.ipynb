{
 "cells": [
  {
   "cell_type": "code",
   "execution_count": null,
   "metadata": {},
   "outputs": [],
   "source": [
    "import pandas as pd\n",
    "\n",
    "# Load the original CSV file\n",
    "input_file = 'input.csv'  # Replace with your input CSV file path\n",
    "output_file = 'output.csv'  # Replace with your desired output CSV file path\n",
    "\n",
    "# Read the CSV file\n",
    "data = pd.read_csv(input_file)\n",
    "\n",
    "# Select the first 20,000 rows\n",
    "subset_data = data.head(20000)\n",
    "\n",
    "# Save the subset to a new CSV file\n",
    "subset_data.to_csv(output_file, index=False)\n",
    "\n",
    "print(f\"Saved the first 20,000 rows to {output_file}\")"
   ]
  }
 ],
 "metadata": {
  "kernelspec": {
   "display_name": "sound2sleep",
   "language": "python",
   "name": "python3"
  },
  "language_info": {
   "name": "python",
   "version": "3.9.19"
  }
 },
 "nbformat": 4,
 "nbformat_minor": 2
}
