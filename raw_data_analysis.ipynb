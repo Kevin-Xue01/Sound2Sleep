{
 "cells": [
  {
   "cell_type": "code",
   "execution_count": 3,
   "metadata": {},
   "outputs": [
    {
     "name": "stdout",
     "output_type": "stream",
     "text": [
      "PDF report saved to eeg_analysis_report.pdf\n"
     ]
    }
   ],
   "source": [
    "import pandas as pd\n",
    "import numpy as np\n",
    "import matplotlib.pyplot as plt\n",
    "from matplotlib.backends.backend_pdf import PdfPages\n",
    "i = 0\n",
    "# Load CSV file\n",
    "file_path = \"data/kevin/eeg_data.csv\"\n",
    "df = pd.read_csv(file_path)\n",
    "\n",
    "# Group by unique timestamps\n",
    "grouped = df.groupby(\"timestamp\")\n",
    "\n",
    "# Analyze repeated instances\n",
    "summary = grouped.size().reset_index(name=\"count\")  # Number of repeats per unique timestamp\n",
    "summary[\"min\"] = grouped[\"timestamp\"].min()\n",
    "summary[\"max\"] = grouped[\"timestamp\"].max()\n",
    "summary[\"range\"] = summary[\"max\"] - summary[\"min\"]\n",
    "\n",
    "# Time-series analysis\n",
    "unique_timestamps = summary[\"timestamp\"].sort_values().to_numpy()\n",
    "\n",
    "# Calculate delta times between consecutive timestamps\n",
    "delta_t = unique_timestamps[1:] - unique_timestamps[:-1]\n",
    "\n",
    "# Instantaneous sampling rates (in Hz)\n",
    "sampling_rates = 1.0 / delta_t\n",
    "\n",
    "# Save results to CSV\n",
    "summary[\"delta_t\"] = [None] + list(delta_t)  # Add NaN for the first timestamp (no delta)\n",
    "summary[\"sampling_rate\"] = [None] + list(sampling_rates)  # Add NaN for the first timestamp\n",
    "\n",
    "# Compute statistics\n",
    "delta_t_stats = pd.Series(delta_t).describe()\n",
    "delta_t_median = np.median(delta_t)\n",
    "delta_t_mode = pd.Series(delta_t).mode().iloc[0]\n",
    "\n",
    "sampling_rate_stats = pd.Series(sampling_rates).describe()\n",
    "sampling_rate_median = np.median(sampling_rates)\n",
    "sampling_rate_mode = pd.Series(sampling_rates).mode().iloc[0]\n",
    "\n",
    "# Create PDF report\n",
    "pdf_path = \"eeg_analysis_report.pdf\"\n",
    "with PdfPages(pdf_path) as pdf:\n",
    "    # Histogram of sampling rates\n",
    "    plt.figure(figsize=(10, 6))\n",
    "    bins = 250  # Number of bins for the histogram\n",
    "    plt.hist(sampling_rates, bins=bins, color=\"blue\", edgecolor=\"black\", alpha=0.7)\n",
    "    plt.title(\"Histogram of Instantaneous Sampling Rates\")\n",
    "    plt.xlabel(\"Sampling Rate (Hz)\")\n",
    "    plt.ylabel(\"Frequency\")\n",
    "    plt.grid(axis=\"y\", alpha=0.75)\n",
    "    pdf.savefig()  # Save histogram to PDF\n",
    "    plt.close()\n",
    "\n",
    "    # Statistics page\n",
    "    plt.figure(figsize=(8.5, 11))  # Standard letter-size page\n",
    "    plt.axis('off')  # Turn off axes\n",
    "\n",
    "    # Create text summary\n",
    "    stats_text = (\n",
    "        f\"Number of unique timestamps: {len(unique_timestamps)}\\n\\n\"\n",
    "        f\"Summary statistics for delta t:\\n\"\n",
    "        f\"(total duration = {(unique_timestamps[-1] - unique_timestamps[0]) / 60} minutes)\\n\"\n",
    "        f\"{delta_t_stats}\\n\"\n",
    "        f\"Median: {delta_t_median:.6f}\\n\"\n",
    "        f\"Mode: {delta_t_mode:.6f}\\n\\n\"\n",
    "        \"Summary statistics for sampling rate (Hz):\\n\"\n",
    "        f\"{sampling_rate_stats}\\n\"\n",
    "        f\"Median: {sampling_rate_median:.6f}\\n\"\n",
    "        f\"Mode: {sampling_rate_mode:.6f}\\n\\n\"\n",
    "    )\n",
    "\n",
    "    plt.text(0.0, -0.1, stats_text, fontsize=20, wrap=False)  # Add text to the page\n",
    "    pdf.savefig()  # Save stats page to PDF\n",
    "    plt.close()\n",
    "\n",
    "print(f\"PDF report saved to {pdf_path}\")"
   ]
  }
 ],
 "metadata": {
  "kernelspec": {
   "display_name": "sound2sleep",
   "language": "python",
   "name": "python3"
  },
  "language_info": {
   "codemirror_mode": {
    "name": "ipython",
    "version": 3
   },
   "file_extension": ".py",
   "mimetype": "text/x-python",
   "name": "python",
   "nbconvert_exporter": "python",
   "pygments_lexer": "ipython3",
   "version": "3.9.19"
  }
 },
 "nbformat": 4,
 "nbformat_minor": 2
}
