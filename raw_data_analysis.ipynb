{
 "cells": [
  {
   "cell_type": "code",
   "execution_count": null,
   "metadata": {},
   "outputs": [],
   "source": [
    "import pandas as pd\n",
    "import numpy as np\n",
    "import matplotlib.pyplot as plt\n",
    "\n",
    "# Load CSV file\n",
    "file_path = \"eeg_data.csv\"\n",
    "df = pd.read_csv(file_path)\n",
    "\n",
    "# Group by unique timestamps\n",
    "grouped = df.groupby(\"timestamp\")\n",
    "\n",
    "# Analyze repeated instances\n",
    "summary = grouped.size().reset_index(name=\"count\")  # Number of repeats per unique timestamp\n",
    "summary[\"min\"] = grouped[\"timestamp\"].min()\n",
    "summary[\"max\"] = grouped[\"timestamp\"].max()\n",
    "summary[\"range\"] = summary[\"max\"] - summary[\"min\"]\n",
    "\n",
    "# Time-series analysis\n",
    "unique_timestamps = summary[\"timestamp\"].sort_values().to_numpy()\n",
    "\n",
    "# Calculate delta times between consecutive timestamps\n",
    "delta_t = unique_timestamps[1:] - unique_timestamps[:-1]\n",
    "\n",
    "# Instantaneous sampling rates (in Hz)\n",
    "sampling_rates = 1.0 / delta_t\n",
    "\n",
    "# Save results to CSV\n",
    "summary[\"delta_t\"] = [None] + list(delta_t)  # Add NaN for the first timestamp (no delta)\n",
    "summary[\"sampling_rate\"] = [None] + list(sampling_rates)  # Add NaN for the first timestamp\n",
    "output_path = \"eeg_analysis_summary.csv\"\n",
    "summary.to_csv(output_path, index=False)\n",
    "\n",
    "# Plotting the histogram of sampling rates\n",
    "plt.figure(figsize=(10, 6))\n",
    "bins = 50  # Number of bins for the histogram\n",
    "plt.hist(sampling_rates, bins=bins, color=\"blue\", edgecolor=\"black\", alpha=0.7)\n",
    "plt.title(\"Histogram of Instantaneous Sampling Rates\")\n",
    "plt.xlabel(\"Sampling Rate (Hz)\")\n",
    "plt.ylabel(\"Frequency\")\n",
    "plt.grid(axis=\"y\", alpha=0.75)\n",
    "plt.show()\n",
    "\n",
    "# Display key stats\n",
    "print(\"Number of unique timestamps:\", len(unique_timestamps))\n",
    "print(\"Summary statistics for delta t (seconds):\")\n",
    "print(pd.Series(delta_t).describe())\n",
    "print(\"Summary statistics for sampling rate (Hz):\")\n",
    "print(pd.Series(sampling_rates).describe())\n",
    "\n",
    "print(f\"Results saved to {output_path}\")"
   ]
  }
 ],
 "metadata": {
  "kernelspec": {
   "display_name": "sound2sleep",
   "language": "python",
   "name": "python3"
  },
  "language_info": {
   "name": "python",
   "version": "3.9.19"
  }
 },
 "nbformat": 4,
 "nbformat_minor": 2
}
