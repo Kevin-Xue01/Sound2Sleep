{
 "cells": [
  {
   "cell_type": "code",
   "execution_count": 2,
   "metadata": {},
   "outputs": [],
   "source": [
    "from multiprocessing import shared_memory\n",
    "\n",
    "try:\n",
    "    shm = shared_memory.SharedMemory(name=\"eeg_shared_memory\")\n",
    "    shm.close()\n",
    "    shm.unlink()\n",
    "except FileNotFoundError:\n",
    "    print(\"Shared memory not found, skipping cleanup.\")\n"
   ]
  },
  {
   "cell_type": "code",
   "execution_count": null,
   "metadata": {},
   "outputs": [],
   "source": [
    "from utils import FileReader\n",
    "\n",
    "file_reader = FileReader('03-09_03-15-00')\n",
    "for eeg_data, timestamp in file_reader.read_all_frames():\n",
    "    print(eeg_data.shape)\n",
    "    print(timestamp.shape)\n",
    "    print(eeg_data)\n",
    "    print(timestamp)"
   ]
  }
 ],
 "metadata": {
  "kernelspec": {
   "display_name": "sound2sleep",
   "language": "python",
   "name": "python3"
  },
  "language_info": {
   "codemirror_mode": {
    "name": "ipython",
    "version": 3
   },
   "file_extension": ".py",
   "mimetype": "text/x-python",
   "name": "python",
   "nbconvert_exporter": "python",
   "pygments_lexer": "ipython3",
   "version": "3.9.7"
  }
 },
 "nbformat": 4,
 "nbformat_minor": 2
}
