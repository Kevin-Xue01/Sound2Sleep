{
 "cells": [
  {
   "cell_type": "code",
   "execution_count": 4,
   "metadata": {},
   "outputs": [
    {
     "name": "stdout",
     "output_type": "stream",
     "text": [
      "Rotated image saved to rotated_output.png\n"
     ]
    }
   ],
   "source": [
    "import cv2\n",
    "import numpy as np\n",
    "\n",
    "def rotate_image(image_path, angle, output_path):\n",
    "    # Load the image with alpha channel (if available)\n",
    "    image = cv2.imread(image_path, cv2.IMREAD_UNCHANGED)\n",
    "    if image is None:\n",
    "        print(\"Error: Could not load image.\")\n",
    "        return\n",
    "    \n",
    "    # Check if the image has an alpha channel\n",
    "    has_alpha = image.shape[2] == 4 if len(image.shape) == 3 else False\n",
    "    \n",
    "    # Get image dimensions\n",
    "    (h, w) = image.shape[:2]\n",
    "    center = (w // 2, h // 2)\n",
    "    \n",
    "    # Compute the rotation matrix\n",
    "    M = cv2.getRotationMatrix2D(center, angle, 1.0)\n",
    "    \n",
    "    # Determine the bounding dimensions after rotation\n",
    "    cos = abs(M[0, 0])\n",
    "    sin = abs(M[0, 1])\n",
    "    new_w = int((h * sin) + (w * cos))\n",
    "    new_h = int((h * cos) + (w * sin))\n",
    "    \n",
    "    # Adjust the rotation matrix to consider translation\n",
    "    M[0, 2] += (new_w / 2) - center[0]\n",
    "    M[1, 2] += (new_h / 2) - center[1]\n",
    "    \n",
    "    # Perform the rotation\n",
    "    if has_alpha:\n",
    "        rotated = cv2.warpAffine(image, M, (new_w, new_h), flags=cv2.INTER_LINEAR, borderMode=cv2.BORDER_CONSTANT, borderValue=(0, 0, 0, 0))\n",
    "    else:\n",
    "        rotated = cv2.warpAffine(image, M, (new_w, new_h), flags=cv2.INTER_LINEAR, borderMode=cv2.BORDER_CONSTANT, borderValue=(0, 0, 0))\n",
    "    \n",
    "    # Save the rotated image with transparency\n",
    "    cv2.imwrite(output_path, rotated, [cv2.IMWRITE_PNG_COMPRESSION, 9])\n",
    "    print(f\"Rotated image saved to {output_path}\")\n",
    "\n",
    "# Example usage\n",
    "rotate_image(\"right.png\", 30, \"rotated_output.png\")\n"
   ]
  },
  {
   "cell_type": "code",
   "execution_count": 8,
   "metadata": {},
   "outputs": [
    {
     "name": "stdout",
     "output_type": "stream",
     "text": [
      "Rotated image saved to rotated_output.png\n",
      "Mirrored image saved to bottom_left.png\n"
     ]
    }
   ],
   "source": [
    "import cv2\n",
    "import numpy as np\n",
    "\n",
    "def rotate_image(image_path, angle, output_path):\n",
    "    # Load the image with alpha channel (if available)\n",
    "    image = cv2.imread(image_path, cv2.IMREAD_UNCHANGED)\n",
    "    if image is None:\n",
    "        print(\"Error: Could not load image.\")\n",
    "        return\n",
    "    \n",
    "    # Check if the image has an alpha channel\n",
    "    has_alpha = image.shape[2] == 4 if len(image.shape) == 3 else False\n",
    "    \n",
    "    # Get image dimensions\n",
    "    (h, w) = image.shape[:2]\n",
    "    center = (w // 2, h // 2)\n",
    "    \n",
    "    # Compute the rotation matrix\n",
    "    M = cv2.getRotationMatrix2D(center, angle, 1.0)\n",
    "    \n",
    "    # Determine the bounding dimensions after rotation\n",
    "    cos = abs(M[0, 0])\n",
    "    sin = abs(M[0, 1])\n",
    "    new_w = int((h * sin) + (w * cos))\n",
    "    new_h = int((h * cos) + (w * sin))\n",
    "    \n",
    "    # Adjust the rotation matrix to consider translation\n",
    "    M[0, 2] += (new_w / 2) - center[0]\n",
    "    M[1, 2] += (new_h / 2) - center[1]\n",
    "    \n",
    "    # Perform the rotation\n",
    "    if has_alpha:\n",
    "        rotated = cv2.warpAffine(image, M, (new_w, new_h), flags=cv2.INTER_LINEAR, borderMode=cv2.BORDER_CONSTANT, borderValue=(0, 0, 0, 0))\n",
    "    else:\n",
    "        rotated = cv2.warpAffine(image, M, (new_w, new_h), flags=cv2.INTER_LINEAR, borderMode=cv2.BORDER_CONSTANT, borderValue=(0, 0, 0))\n",
    "    \n",
    "    # Save the rotated image with transparency\n",
    "    cv2.imwrite(output_path, rotated, [cv2.IMWRITE_PNG_COMPRESSION, 9])\n",
    "    print(f\"Rotated image saved to {output_path}\")\n",
    "\n",
    "def mirror_image(image_path, output_path, axis=1):\n",
    "    \"\"\" Mirrors the image along the specified axis (0 for vertical, 1 for horizontal). \"\"\"\n",
    "    image = cv2.imread(image_path, cv2.IMREAD_UNCHANGED)\n",
    "    if image is None:\n",
    "        print(\"Error: Could not load image.\")\n",
    "        return\n",
    "    \n",
    "    mirrored = cv2.flip(image, axis)\n",
    "    cv2.imwrite(output_path, mirrored, [cv2.IMWRITE_PNG_COMPRESSION, 9])\n",
    "    print(f\"Mirrored image saved to {output_path}\")\n",
    "\n",
    "# Example usage\n",
    "rotate_image(\"right.png\", 45, \"rotated_output.png\")\n",
    "mirror_image(\"bottom_right.png\", \"bottom_left.png\", axis=1)\n"
   ]
  }
 ],
 "metadata": {
  "kernelspec": {
   "display_name": "base",
   "language": "python",
   "name": "python3"
  },
  "language_info": {
   "codemirror_mode": {
    "name": "ipython",
    "version": 3
   },
   "file_extension": ".py",
   "mimetype": "text/x-python",
   "name": "python",
   "nbconvert_exporter": "python",
   "pygments_lexer": "ipython3",
   "version": "3.11.5"
  }
 },
 "nbformat": 4,
 "nbformat_minor": 2
}
