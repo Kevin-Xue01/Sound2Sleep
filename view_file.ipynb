{
 "cells": [
  {
   "cell_type": "code",
   "execution_count": null,
   "metadata": {},
   "outputs": [],
   "source": [
    "from utils import FileReader\n",
    "\n",
    "reader = FileReader(\"input.txt\")\n",
    "for timestamps, data in reader.stream_eeg_data():\n",
    "    print(timestamps, data)"
   ]
  }
 ],
 "metadata": {
  "kernelspec": {
   "display_name": "bme544",
   "language": "python",
   "name": "python3"
  },
  "language_info": {
   "name": "python",
   "version": "3.10.16"
  }
 },
 "nbformat": 4,
 "nbformat_minor": 2
}
